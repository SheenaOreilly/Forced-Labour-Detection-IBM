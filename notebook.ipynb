{
 "cells": [
  {
   "cell_type": "code",
   "execution_count": 1,
   "id": "08bf5efe",
   "metadata": {},
   "outputs": [],
   "source": [
    "# importing necessary libraries for the webscraping to work \n",
    "import requests\n",
    "import bs4\n",
    "from bs4 import BeautifulSoup"
   ]
  },
  {
   "cell_type": "code",
   "execution_count": 2,
   "id": "28c57b0e",
   "metadata": {},
   "outputs": [],
   "source": [
    "# setting the url to the website for scraping, in this case the first page of the accounting jobs section \n",
    "# on locanto.ie\n",
    "url = 'https://www.locanto.ie/Accounting-Financing-Banking/644/'"
   ]
  },
  {
   "cell_type": "code",
   "execution_count": 3,
   "id": "8b43164b",
   "metadata": {},
   "outputs": [],
   "source": [
    "# setting a user agent for accessing the url, in the event the website \n",
    "# tries to block a browser without a user agent as this being done through\n",
    "# a python script\n",
    "headers = {\n",
    "    'User-Agent': \"Mozilla/5.0 (Windows NT 10.0; Win64; x64) AppleWebKit/537.36 (KHTML, like Gecko) Chrome/98.0.4758.82 Safari/537.36\"\n",
    "}"
   ]
  },
  {
   "cell_type": "code",
   "execution_count": 4,
   "id": "4164e4a6",
   "metadata": {},
   "outputs": [],
   "source": [
    "# requesting the data from the url, passing the header that was made \n",
    "# r has the source code for this url\n",
    "r = requests.get(url,{'headers':headers})"
   ]
  },
  {
   "cell_type": "code",
   "execution_count": 5,
   "id": "9efb9958",
   "metadata": {},
   "outputs": [],
   "source": [
    "# use beautiful soup to skim through the source code\n",
    "soup  = bs4.BeautifulSoup(r.text, 'html.parser')"
   ]
  },
  {
   "cell_type": "code",
   "execution_count": 6,
   "id": "a9f0e6ac",
   "metadata": {},
   "outputs": [
    {
     "data": {
      "text/plain": [
       "'Online Tax Calculator 2022 | Icon Accounting'"
      ]
     },
     "execution_count": 6,
     "metadata": {},
     "output_type": "execute_result"
    }
   ],
   "source": [
    "# sample query. looking for the title of the first job on the page\n",
    "soup.find_all('div',{'class': 'textHeader'})[0].find('a').text"
   ]
  },
  {
   "cell_type": "code",
   "execution_count": 7,
   "id": "c6678f2f",
   "metadata": {},
   "outputs": [
    {
     "name": "stdout",
     "output_type": "stream",
     "text": [
      "Online Tax Calculator 2022 | Icon Accounting\n",
      "Online Tax Calculator 2022 to see how much could earn Contracting. Want an immediate sense of your earnings as Contractor? Our free online tax calculator is all you need to …\n",
      "\n",
      "Senior Accountant\n",
      "Job spec for Senior Accountant (€ 45-65k) As part of the Ecovis Team, you will work directly with partners and use cloud based programmes daily. Job specifications: Preparation …\n",
      "\n",
      "Creative & Digital Account Associate Director\n",
      "200+ is the number of associates working within Creative & Digital based in Ireland, US, India and Mexico supporting all divisions across Novartis. C&D is a full service agency …\n",
      "\n",
      "Senior Accountant / Assistant Finance Manager\n",
      "Responsibilities Report to Senior Finance Manager Handle full set of accounts, with financial analysis, audited accounts and consolidation independently Ensure timely and …\n",
      "\n",
      "Risk Investigation Specialist (French)\n",
      "TikTok is the leading destination for short-form mobile video. Our mission is to inspire creativity and bring joy. TikTok has global offices including Los Angeles, New York, …\n",
      "\n",
      "Senior Account Executive / Account Executive\n",
      "Senior Account Executive / Account Executive Senior Account Executive / Account Executive Understand the market trends in Asia-Pacific Minimum 2 years of relevant experience …\n",
      "\n",
      "Project Manager - Business Consulting -Financial Services - …\n",
      "Press Tab to Move to Skip to Content Link Project Manager - Business Consulting -Financial Services - Dublin Location: Dublin 2 Other locations: Primary Location Only …\n",
      "\n",
      "Manager, Investor Services\n",
      "Ocorian is a global leader in corporate and fiduciary services, fund administration and capital markets. Wherever our clients hold financial interests, or however they are …\n",
      "\n",
      "Senior Information Security Analyst\n",
      "Role Overview:As the Senior Information Security Analyst, you will be part of the Office of the Chief Information Security Officer. This position has the objective of leading …\n",
      "\n",
      "Mutual funds Analyst - Italian /French\n",
      "This is an excellent Permanent opportunity for a Finance Graduate, fluent in one of the languages below, to work with a large Multinational Company in Ireland Role: Mutual funds …\n",
      "\n",
      "Senior Credit Analyst, European Language\n",
      "Determines the credit worthiness of customers and potential customers desiring to purchase the Company products and services based upon evaluation of financial condition / ability …\n",
      "\n",
      "Senior Data Analyst (Core)\n",
      "Press Tab to Move to Skip to Content Link Houghton Mifflin Harcourt’s Data Science & Learning Analytics team is looking for data analysts to help deliver critical digital …\n",
      "\n",
      "Business Analyst\n",
      "Company: An American multinational financial technology company Key Responsibilities: Business analysis - data and functional review of systems to support later requirements. …\n",
      "\n",
      "Accounts Receivable Analyst\n",
      "Since 2004, Mandiant has been a trusted partner to security-conscious organizations. Effective security is based on the right combination of expertise, intelligence, and adaptive …\n",
      "\n",
      "Team Lead, Private Equity Accounting - Limerick\n",
      "Team Lead, Private Equity Accounting - Limerick Northern Trust provides innovative financial services and guidance …\n",
      "\n",
      "Risk Analyst\n",
      "A leader in the payments industry, Elavon provides end-to-end payment processing solutions and services to more than one million merchants around the world. If you want to make a …\n",
      "\n",
      "Group Transfer Pricing Specialist\n",
      "Group Transfer Pricing SpecialistArdagh Group - Dublin, County Dublin. We have an opportunity for a Transfer Pricing Specialist in our Group Tax team in Dublin. The successful …\n",
      "\n",
      "Quality Assurance Specialist\n",
      "The answer you entered for the CAPTCHA was not correct. Job Seekers Ireland Science Life Science, Pharmaceutical Job Summary Dublin North Permanent BBBH805217 Jan 27, …\n",
      "\n",
      "Enterprise Account Executive - Register your interest\n",
      "Job Description We are experiencing significant growth within our Enterprise / Strategic sales divisions throughout EMEA at multiple levels, please register your interest now …\n",
      "\n",
      "Assistant Investment Analyst / Investment Associate\n",
      "Medical insurance upon completion of probation 5-day work week Job Description Job Description You will work closely with the CIO & external partners including investment …\n",
      "\n",
      "TP Tax Senior Associate\n",
      "Line of Service Tax Industry/Sector Not Applicable Specialism General Tax Consulting Management Level Senior Associate Job Description & Summary A career within Corporate Tax …\n",
      "\n",
      "Marketing Executive and Financial Anchor (Fintech / …\n",
      "Marketing Executive and Financial Anchor (Fintech / Internet Brokerage) Marketing Executive and Financial Anchor (Fintech / Internet Brokerage) Rapidly expanding Fintech & …\n",
      "\n",
      "Proj Support Analyst I, IRT\n",
      "At ICON, it's our people that set us apart. Our diverse teams enable us to become a better partner to our customers and help us to fulfil our mission to advance and improve …\n",
      "\n",
      "Seeking: Document Controller\n",
      "Building a sustainable tomorrow We are seeking a Document Controller to join our team at the National Children's Hospital in Dublin. BAM Ireland are the main contractors on the …\n",
      "\n"
     ]
    }
   ],
   "source": [
    "# loop to print the job titles and initial descriptions of each job on the page\n",
    "# counted 24 job links on the first page but there might be more or less on \n",
    "# other pages\n",
    "i = 0\n",
    "while i < 24:\n",
    "\n",
    "    print (soup.find_all('div',{'class': 'textHeader'})[i].find('a').text)\n",
    "    print (soup.find_all('div',{'class': 'textDesc gray12'})[i].find('a').text)\n",
    "    print()\n",
    "    i+=1"
   ]
  },
  {
   "cell_type": "code",
   "execution_count": null,
   "id": "85e19b0c",
   "metadata": {},
   "outputs": [],
   "source": []
  }
 ],
 "metadata": {
  "kernelspec": {
   "display_name": "Python 3 (ipykernel)",
   "language": "python",
   "name": "python3"
  },
  "language_info": {
   "codemirror_mode": {
    "name": "ipython",
    "version": 3
   },
   "file_extension": ".py",
   "mimetype": "text/x-python",
   "name": "python",
   "nbconvert_exporter": "python",
   "pygments_lexer": "ipython3",
   "version": "3.9.10"
  }
 },
 "nbformat": 4,
 "nbformat_minor": 5
}
