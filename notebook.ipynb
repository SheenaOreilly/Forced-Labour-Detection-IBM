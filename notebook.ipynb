{
 "cells": [
  {
   "cell_type": "code",
   "execution_count": 1,
   "id": "08bf5efe",
   "metadata": {
    "pycharm": {
     "name": "#%%\n"
    }
   },
   "outputs": [],
   "source": [
    "# importing necessary libraries for the webscraping to work \n",
    "import requests\n",
    "from bs4 import BeautifulSoup"
   ]
  },
  {
   "cell_type": "code",
   "execution_count": 2,
   "id": "28c57b0e",
   "metadata": {},
   "outputs": [],
   "source": [
    "# setting the url to the website for scraping, in this case the first page of the accounting jobs section \n",
    "# on locanto.ie\n",
    "url = 'https://www.locanto.ie/Accounting-Financing-Banking/644/'"
   ]
  },
  {
   "cell_type": "code",
   "execution_count": 3,
   "id": "8b43164b",
   "metadata": {},
   "outputs": [],
   "source": [
    "# setting a user agent for accessing the url, in the event the website \n",
    "# tries to block a browser without a user agent as this being done through\n",
    "# a python script\n",
    "headers = {\n",
    "    'User-Agent': \"Mozilla/5.0 (Windows NT 10.0; Win64; x64) AppleWebKit/537.36 (KHTML, like Gecko) Chrome/98.0.4758.82 Safari/537.36\"\n",
    "}"
   ]
  },
  {
   "cell_type": "code",
   "execution_count": 4,
   "id": "4164e4a6",
   "metadata": {},
   "outputs": [],
   "source": [
    "# requesting the data from the url, passing the header that was made \n",
    "# r has the source code for this url\n",
    "r = requests.get(url,{'headers':headers})"
   ]
  },
  {
   "cell_type": "code",
   "execution_count": 5,
   "id": "9efb9958",
   "metadata": {},
   "outputs": [],
   "source": [
    "# use beautiful soup to skim through the source code\n",
    "soup  = BeautifulSoup(r.text, 'html.parser')"
   ]
  },
  {
   "cell_type": "code",
   "execution_count": 6,
   "id": "a9f0e6ac",
   "metadata": {},
   "outputs": [
    {
     "data": {
      "text/plain": [
       "'Online Tax Calculator 2022 | Icon Accounting'"
      ]
     },
     "execution_count": 6,
     "metadata": {},
     "output_type": "execute_result"
    }
   ],
   "source": [
    "# sample query. looking for the title of the first job on the page\n",
    "soup.find_all('div',{'class': 'textHeader'})[0].find('a').text"
   ]
  },
  {
   "cell_type": "code",
   "execution_count": 7,
   "id": "c6678f2f",
   "metadata": {},
   "outputs": [
    {
     "name": "stdout",
     "output_type": "stream",
     "text": [
      "Online Tax Calculator 2022 | Icon Accounting\n",
      "Online Tax Calculator 2022 to see how much could earn Contracting. Want an immediate sense of your earnings as Contractor? Our free online tax calculator is all you need to …\n",
      "\n",
      "Job: Regulatory Risk Analyst M/F\n",
      "Business type Types of Jobs - Asset Management Job title Regulatory Risk Analyst M/F Contract type Permanent Contract Management position No Job summary Who we are looking for We …\n",
      "\n",
      "Seeking: Banking Customer Service Killmallock, Co. Limerick\n",
      "… leading commercial businesses offering a range of corporate and personal banking services. Your new role The role will involve welcoming the …\n",
      "\n",
      "Accounting, Financing & Banking Jobs: Senior Compliance …\n",
      "Ask yourself this Are you interested in building a deep and rounded skill set in Compliance? Are you looking to take experience from one area of the regulatory or control …\n",
      "\n",
      "Document Controller (Accounting, Financing & Banking Jobs)\n",
      "Overview We now wish to recruit a Document Controller for to join the Document Control team. We are a busy team of five and due to securing new client contracts we need an …\n",
      "\n",
      "Job: Commercial Financial Analyst\n",
      "Being a part of Ireland's largest foodservice provider means joining a team that is passionate about the world of food and dedicated to helping our customers be a success. Though …\n",
      "\n",
      "Seeking: Pension & Investment Manager\n",
      "Pension & Investment Manager Location - Dublin Salary - 60,000 Euro Key responsibilities: * Manage the team effectively through the efficient use of all resources, systems and …\n",
      "\n",
      "Job: Data Analyst\n",
      "We are recruiting for a data analyst to be based in our Customer Engagement Centre in Dundalk. The role: Maintenance and optimisation of the companys MS SQL database Extraction of …\n",
      "\n",
      "Seeking: Property Claims Handler\n",
      "Property Claims Handler - 12 Month Fixed Term Contract Job Summary Zurich Insurance plc in our Wexford Centre of Excellence is looking for a is looking for a Property Claims …\n",
      "\n",
      "Job: Director Tax - Banking\n",
      "We're looking for a candidate to fill this position in an exciting company. What does this role offer: We are seeking to hire a full time, permanent Financial Services Tax …\n",
      "\n",
      "Seeking: Bookkeeper\n",
      "Bookkeeper required to join a small team in an organisation based in Sandyford, Dublin 18 Role and Responsibilities include: Management Accounts: * Monthly Accounts to Trial …\n",
      "\n",
      "Job: Accounts Administrator\n",
      "Accounts Administrator Ballyhaunis, Co. Mayo The Company Established in 1988, our client is a friendly, privately owned, family-run Irish healthcare company. Committed to …\n",
      "\n",
      "Seeking: Tax Risk & Controversy, Manager/Senior Manager - Dublin\n",
      "Line of Service Tax Industry/Sector Not Applicable Specialism General Tax Consulting Management Level Senior Manager Job Description & Summary About Us: As Ireland's leading tax …\n",
      "\n",
      "Assistant Accountant (Accounting, Financing & Banking Jobs)\n",
      "Accounts Assistant Our client based in South Tipperary are recruiting an experienced Accounts Assistant to join our finance team. Reporting to the Financial Controller, this newly …\n",
      "\n",
      "Seeking: Real Estate Investment Analyst\n",
      "Reference No 17840 Job Title Real Estate Investment Analyst Type Permanent Salary Competitve Division Commercial Sub Division Europe Department Residential Capital Markets - …\n",
      "\n",
      "Accounting, Financing & Banking Jobs: Financial Advisor\n",
      "This role will be office based in Kildare. We operate nationwide with a team of over 25-50 people, providing a full financial planning service. We also specialise in health …\n",
      "\n",
      "Seeking: Commercial Finance Analyst\n",
      "Looking to grow your career in Finance with us? Position: Commercial Analyst Company Profile: Flutter Entertainment is a FTSE30 global leader in sports betting and gaming with …\n",
      "\n",
      "Senior Accountant\n",
      "Job spec for Senior Accountant (€ 45-65k) As part of the Ecovis Team, you will work directly with partners and use cloud based programmes daily. Job specifications: Preparation …\n",
      "\n",
      "Seeking: Supply Logistics Project Analyst\n",
      "Regeneron is a leading biotechnology company that invents life-transforming medicines for people with serious diseases. Founded and led for over 30 years by physician-scientists, …\n",
      "\n",
      "Creative & Digital Account Associate Director\n",
      "200+ is the number of associates working within Creative & Digital based in Ireland, US, India and Mexico supporting all divisions across Novartis. C&D is a full service agency …\n",
      "\n",
      "Seeking: Accounts Payable Assistant\n",
      "Summary: This is an exciting opportunity to join the Finance function of the business in a role reporting to the Finance Manager. Key Accountabilities: ·Receive, process and …\n",
      "\n",
      "Senior Accountant / Assistant Finance Manager\n",
      "Responsibilities Report to Senior Finance Manager Handle full set of accounts, with financial analysis, audited accounts and consolidation independently Ensure timely and …\n",
      "\n",
      "Risk Investigation Specialist (French)\n",
      "TikTok is the leading destination for short-form mobile video. Our mission is to inspire creativity and bring joy. TikTok has global offices including Los Angeles, New York, …\n",
      "\n",
      "Senior Account Executive / Account Executive\n",
      "Senior Account Executive / Account Executive Senior Account Executive / Account Executive Understand the market trends in Asia-Pacific Minimum 2 years of relevant experience …\n",
      "\n"
     ]
    }
   ],
   "source": [
    "# loop to print the job titles and initial descriptions of each job on the page\n",
    "# counted 24 job links on the first page but there might be more or less on \n",
    "# other pages\n",
    "i = 0\n",
    "while i < 24:\n",
    "    print (soup.find_all('div',{'class': 'textHeader'})[i].find('a').text)\n",
    "    print (soup.find_all('div',{'class': 'textDesc gray12'})[i].find('a').text)\n",
    "    print()\n",
    "    i+=1"
   ]
  },
  {
   "cell_type": "code",
   "execution_count": 7,
   "id": "85e19b0c",
   "metadata": {},
   "outputs": [],
   "source": []
  }
 ],
 "metadata": {
  "kernelspec": {
   "display_name": "Python 3 (ipykernel)",
   "language": "python",
   "name": "python3"
  },
  "language_info": {
   "codemirror_mode": {
    "name": "ipython",
    "version": 3
   },
   "file_extension": ".py",
   "mimetype": "text/x-python",
   "name": "python",
   "nbconvert_exporter": "python",
   "pygments_lexer": "ipython3",
   "version": "3.10.2"
  }
 },
 "nbformat": 4,
 "nbformat_minor": 5
}